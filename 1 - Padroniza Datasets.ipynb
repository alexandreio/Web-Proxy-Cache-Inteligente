{
 "cells": [
  {
   "cell_type": "code",
   "execution_count": 1,
   "metadata": {},
   "outputs": [],
   "source": [
    "import random\n",
    "import numpy as np\n",
    "import pandas as pd\n",
    "import math, random\n",
    "from scipy import special\n",
    "import matplotlib.pyplot as plt\n",
    "from matplotlib.pyplot import figure\n",
    "from datetime import datetime, timedelta"
   ]
  },
  {
   "cell_type": "code",
   "execution_count": 2,
   "metadata": {},
   "outputs": [],
   "source": [
    "def generate_time_of_event(n=100, _lambda=5):\n",
    "  arrival_time = 0\n",
    "  event_times = []\n",
    "\n",
    "  for i in range(n):\n",
    "    p = random.random()\n",
    "    inter_arrival_time = -math.log(1.0 - p) / _lambda\n",
    "\n",
    "    arrival_time += inter_arrival_time\n",
    "    event_times.append(arrival_time)\n",
    "  \n",
    "  return event_times"
   ]
  },
  {
   "cell_type": "code",
   "execution_count": 3,
   "metadata": {},
   "outputs": [],
   "source": [
    "def load_df_prowgen():\n",
    "  df_prowgen = pd.read_csv(\"datasets/test-requests3.dat\", \n",
    "                   sep=\"\\s+\", \n",
    "                   skiprows=1, \n",
    "                   names=['id','file_size'])\n",
    "\n",
    "  print(\"Tamanho total do dataset:\", len(df_prowgen))\n",
    "  \n",
    "  events_time = generate_time_of_event(len(df_prowgen), 1.5)\n",
    "  df_prowgen['request_time'] = events_time\n",
    "  df_prowgen = df_prowgen.rename({\n",
    "    'id': 'object_ID',\n",
    "    'file_size': 'size'\n",
    "  }, axis=1)\n",
    "  \n",
    "  \n",
    "  \n",
    "  return df_prowgen[['object_ID', 'request_time', 'size']]"
   ]
  },
  {
   "cell_type": "code",
   "execution_count": 4,
   "metadata": {},
   "outputs": [
    {
     "name": "stdout",
     "output_type": "stream",
     "text": [
      "Tamanho total do dataset: 483967\n"
     ]
    }
   ],
   "source": [
    "df = load_df_prowgen()"
   ]
  },
  {
   "cell_type": "code",
   "execution_count": 5,
   "metadata": {},
   "outputs": [],
   "source": [
    "def load_synt():\n",
    "  df = pd.read_csv(\"datasets/syntheticDataset_O50.csv\")\n",
    "\n",
    "  random.seed(10)\n",
    "  res = [round(random.uniform(5,100) * 1000) for i in range(50)]\n",
    "\n",
    "  id_size = {}\n",
    "  for i, size in enumerate(res):\n",
    "    id_size[i + 1] = size\n",
    "    \n",
    "  df['size'] = df['object_ID'].apply(lambda _id: id_size[_id])\n",
    "  \n",
    "  return df"
   ]
  },
  {
   "cell_type": "code",
   "execution_count": 27,
   "metadata": {},
   "outputs": [],
   "source": [
    "df = load_synt()"
   ]
  },
  {
   "cell_type": "code",
   "execution_count": 7,
   "metadata": {},
   "outputs": [
    {
     "data": {
      "text/html": [
       "<div>\n",
       "<style scoped>\n",
       "    .dataframe tbody tr th:only-of-type {\n",
       "        vertical-align: middle;\n",
       "    }\n",
       "\n",
       "    .dataframe tbody tr th {\n",
       "        vertical-align: top;\n",
       "    }\n",
       "\n",
       "    .dataframe thead th {\n",
       "        text-align: right;\n",
       "    }\n",
       "</style>\n",
       "<table border=\"1\" class=\"dataframe\">\n",
       "  <thead>\n",
       "    <tr style=\"text-align: right;\">\n",
       "      <th></th>\n",
       "      <th>object_ID</th>\n",
       "      <th>request_time</th>\n",
       "      <th>size</th>\n",
       "    </tr>\n",
       "  </thead>\n",
       "  <tbody>\n",
       "    <tr>\n",
       "      <th>0</th>\n",
       "      <td>3</td>\n",
       "      <td>0.972871</td>\n",
       "      <td>59919</td>\n",
       "    </tr>\n",
       "    <tr>\n",
       "      <th>1</th>\n",
       "      <td>1</td>\n",
       "      <td>1.207572</td>\n",
       "      <td>59283</td>\n",
       "    </tr>\n",
       "    <tr>\n",
       "      <th>2</th>\n",
       "      <td>1</td>\n",
       "      <td>1.496262</td>\n",
       "      <td>59283</td>\n",
       "    </tr>\n",
       "    <tr>\n",
       "      <th>3</th>\n",
       "      <td>20</td>\n",
       "      <td>2.023976</td>\n",
       "      <td>48399</td>\n",
       "    </tr>\n",
       "    <tr>\n",
       "      <th>4</th>\n",
       "      <td>29</td>\n",
       "      <td>2.777488</td>\n",
       "      <td>5385</td>\n",
       "    </tr>\n",
       "  </tbody>\n",
       "</table>\n",
       "</div>"
      ],
      "text/plain": [
       "   object_ID  request_time   size\n",
       "0          3      0.972871  59919\n",
       "1          1      1.207572  59283\n",
       "2          1      1.496262  59283\n",
       "3         20      2.023976  48399\n",
       "4         29      2.777488   5385"
      ]
     },
     "metadata": {},
     "output_type": "display_data"
    },
    {
     "data": {
      "text/html": [
       "<div>\n",
       "<style scoped>\n",
       "    .dataframe tbody tr th:only-of-type {\n",
       "        vertical-align: middle;\n",
       "    }\n",
       "\n",
       "    .dataframe tbody tr th {\n",
       "        vertical-align: top;\n",
       "    }\n",
       "\n",
       "    .dataframe thead th {\n",
       "        text-align: right;\n",
       "    }\n",
       "</style>\n",
       "<table border=\"1\" class=\"dataframe\">\n",
       "  <thead>\n",
       "    <tr style=\"text-align: right;\">\n",
       "      <th></th>\n",
       "      <th>object_ID</th>\n",
       "      <th>request_time</th>\n",
       "      <th>size</th>\n",
       "    </tr>\n",
       "  </thead>\n",
       "  <tbody>\n",
       "    <tr>\n",
       "      <th>287658</th>\n",
       "      <td>42</td>\n",
       "      <td>304950.049238</td>\n",
       "      <td>26308</td>\n",
       "    </tr>\n",
       "    <tr>\n",
       "      <th>287659</th>\n",
       "      <td>42</td>\n",
       "      <td>305015.143156</td>\n",
       "      <td>26308</td>\n",
       "    </tr>\n",
       "    <tr>\n",
       "      <th>287660</th>\n",
       "      <td>42</td>\n",
       "      <td>305060.330213</td>\n",
       "      <td>26308</td>\n",
       "    </tr>\n",
       "    <tr>\n",
       "      <th>287661</th>\n",
       "      <td>42</td>\n",
       "      <td>305065.952156</td>\n",
       "      <td>26308</td>\n",
       "    </tr>\n",
       "    <tr>\n",
       "      <th>287662</th>\n",
       "      <td>42</td>\n",
       "      <td>305176.878168</td>\n",
       "      <td>26308</td>\n",
       "    </tr>\n",
       "  </tbody>\n",
       "</table>\n",
       "</div>"
      ],
      "text/plain": [
       "        object_ID   request_time   size\n",
       "287658         42  304950.049238  26308\n",
       "287659         42  305015.143156  26308\n",
       "287660         42  305060.330213  26308\n",
       "287661         42  305065.952156  26308\n",
       "287662         42  305176.878168  26308"
      ]
     },
     "metadata": {},
     "output_type": "display_data"
    }
   ],
   "source": [
    "display(df.head())\n",
    "\n",
    "display(df.tail())"
   ]
  },
  {
   "cell_type": "code",
   "execution_count": 8,
   "metadata": {},
   "outputs": [],
   "source": [
    "min_request_time = df['request_time'].min()\n",
    "\n",
    "df['current_day'] = (df['request_time'] - min_request_time) / 86400\n",
    "df[\"current_day\"] = df[\"current_day\"].apply(int)\n",
    "df[\"current_day\"] = df[\"current_day\"] + 1"
   ]
  },
  {
   "cell_type": "code",
   "execution_count": 9,
   "metadata": {},
   "outputs": [],
   "source": [
    "START_DATETIME = datetime(year=2018, month=8, day=1, hour=0, minute=0, second=0)\n",
    "\n",
    "df['time'] = df['request_time'].apply(lambda r: START_DATETIME + timedelta(seconds=r))\n",
    "df = df.set_index('time')"
   ]
  },
  {
   "cell_type": "code",
   "execution_count": 10,
   "metadata": {},
   "outputs": [],
   "source": [
    "BIN_SECONDS = 3600\n",
    "\n",
    "df.sort_values(by=['request_time'], inplace=True)\n",
    "bins = np.arange(np.ceil(df.request_time.min()), np.ceil(df.request_time.max()), BIN_SECONDS)\n",
    "df['hour'] = pd.cut(df['request_time'], bins, labels=np.arange(0, len(bins)-1))\n",
    "df.dropna(inplace=True)"
   ]
  },
  {
   "cell_type": "code",
   "execution_count": 11,
   "metadata": {},
   "outputs": [],
   "source": [
    "#df['hour'].value_counts().rename_axis('hour').reset_index(name='total').sort_values(\"hour\").plot.bar(\"hour\", \"total\", figsize=(20, 8))"
   ]
  },
  {
   "cell_type": "code",
   "execution_count": 12,
   "metadata": {},
   "outputs": [],
   "source": [
    "df['x'] = 1\n",
    "df = df.groupby(['object_ID', 'hour', 'size']).rolling('1H')['x'].count().reset_index().sort_values('time').set_index('time')\n",
    "df.rename({'x': 'total_requests_1H'}, axis=1, inplace=True)"
   ]
  },
  {
   "cell_type": "code",
   "execution_count": 13,
   "metadata": {},
   "outputs": [],
   "source": [
    "tmp_df = df.groupby(['object_ID', 'hour']).rolling('2H')['total_requests_1H'].mean().reset_index().sort_values('time').set_index('time')\n",
    "df['mean_requests_2H'] = tmp_df['total_requests_1H']"
   ]
  },
  {
   "cell_type": "code",
   "execution_count": 14,
   "metadata": {},
   "outputs": [],
   "source": [
    "tmp_df = df.copy()\n",
    "tmp_df['x'] = 1\n",
    "tmp_df = tmp_df.groupby(['object_ID']).rolling('30D')['x'].sum().reset_index().sort_values('time').set_index('time')\n",
    "\n",
    "df['count'] = tmp_df['x']"
   ]
  },
  {
   "cell_type": "code",
   "execution_count": 15,
   "metadata": {},
   "outputs": [],
   "source": [
    "def items_to_keep_in_cache(df, window=15):\n",
    "  keep_in_cache = []\n",
    "  for i, r in df.reset_index().iterrows():\n",
    "    current_id = r['object_ID']\n",
    "    rolling_df = df.iloc[i + 1:i+window]['object_ID'].values\n",
    "\n",
    "    keep_in_cache.append(current_id in rolling_df)\n",
    "  \n",
    "  return keep_in_cache"
   ]
  },
  {
   "cell_type": "code",
   "execution_count": 16,
   "metadata": {},
   "outputs": [],
   "source": [
    "df['cache'] = items_to_keep_in_cache(df, 15)"
   ]
  },
  {
   "cell_type": "code",
   "execution_count": 17,
   "metadata": {},
   "outputs": [],
   "source": [
    "df.to_csv(\"final_datasets/teste.csv\")"
   ]
  }
 ],
 "metadata": {
  "kernelspec": {
   "display_name": "Python 3",
   "language": "python",
   "name": "python3"
  },
  "language_info": {
   "codemirror_mode": {
    "name": "ipython",
    "version": 3
   },
   "file_extension": ".py",
   "mimetype": "text/x-python",
   "name": "python",
   "nbconvert_exporter": "python",
   "pygments_lexer": "ipython3",
   "version": "3.7.4"
  }
 },
 "nbformat": 4,
 "nbformat_minor": 4
}
