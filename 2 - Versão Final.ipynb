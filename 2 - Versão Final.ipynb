{
 "cells": [
  {
   "cell_type": "markdown",
   "metadata": {},
   "source": [
    "## Proposta"
   ]
  },
  {
   "cell_type": "markdown",
   "metadata": {},
   "source": [
    "Este trabalho propôs a criação de um sistema utilizando algoritmos de aprendizagem de máquina para maximizar a métrica de hit ratio. [1](https://www.cloudflare.com/pt-br/learning/cdn/what-is-a-cache-hit-ratio/#:~:text=A%20cache%20hit%20ratio%20is,at%20fulfilling%20requests%20for%20content.)\n",
    "\n",
    "$$\\frac{\\textrm{number of cache hits}}{\\textrm{number of cache hits + number of cache misses}} = {\\textrm{hit ratio}}{\\textrm{    }}(1)$$ \n",
    "\n",
    "<br><br>\n",
    "Os passos do sistema estão descritos no diagrama abaixo:\n",
    "<center><img src=\"images/diagrama.png\"></center>\n",
    "\n",
    "_A. Obtenção dos dados_\n",
    "\n",
    "Para avaliar o desempenho do sistema proposto foi utilizado um conjunto de dados sintéticos gerados utilizando o código utilizado no projeto DeepCache[2](https://github.com/eman-ramadan/deepcache_netai2018). Os dados gerados seguem a distribuição Zipf para simular a popularidade de cada item ao longo do tempo. O conjunto de dados gerados possue duas colunas, Object_ID e request_time. Para o trabalho foi adicionando uma nova coluna ao conjunto de dados chamado size.\n",
    "\n",
    "* **Object_ID**: Número inteiro representando o ID do objeto que está sendo requisitado.\n",
    "* **request_time**: Tempo incremental em segundos representando o momento que o Object_ID foi requisitado.\n",
    "* **size**: Tamanho do Object_ID em bytes seguindo a distribuição normal.\n",
    "\n",
    "Na etapa de pré-processamento são adicionadas novas colunas para serem utilizadas como _features_ nos algoritmos de aprendizagem de máquina. As novas colunas são:\n",
    "* **time**: Conversão da coluna request_time para o formato data e hora, começando em 01/08/2018.\n",
    "* **hour**: Agrupamento da coluna request_time em intervalos de 3600 segundos e atribuido a cada intervalo um valor representando a hora que ocorreu a requisição.\n",
    "* **total_requests_1H**: Janela deslizante de hora em hora incremental com o número de acessos do object_ID.\n",
    "* **mean_requests_2H**: Janela deslizante de duas horas com o valor médio da coluna total_requests_1H.\n",
    "* **count**: Total de acessos que um object_ID recebeu.\n",
    "\n",
    "Por fim na etapa de pré-processamento é criada uma coluna chamada **cache** para classificar a requisição. Caso o valor dela seja 1 significa que o _object_ID_ tem uma maior probilidade de ser um item popular e que já deva estar ou precise estar em _cache_ e caso o valor seja 0 significa que o item tem uma probilidade menor de ser popular e que não precisa ser armazenado na cache.\n",
    "O método adotado para a classificação foi se o _object_ID_ da linha atual aparece pelo menos uma vez nos próximos 15 _frames_ do conjunto de dados.\n",
    "\n",
    "\n",
    "_C. Algoritmos de classificação utilizados_\n",
    "\n",
    "Para este trabalho foi utilizada integralmente a linguagem de programação _Python_.\n",
    "_Python_ é uma linguagem de programação de alto nível, multiparadigma e interpretada. Devido ao fato de ser uma linguagem fácil de ser apredendida e por todo seu ecossistema, tanto de bibliotecas como da comunidade, ela se tornou uma das linguagens mais utilizadas para tarefas de análise de dados, aprendizagem de máquina e inteligência artificial. [2](https://marutitech.com/python-data-science/) [3](https://www.davekuhlman.org/python_book_01.pdf)\n",
    "\n",
    "Os algoritimos de classificação escolhidos para esse trabalho foram: _Random Forest_, _Gradient Boosting_ e _Decision Tree_. Foram utilizados os algoritmos implementados no pacote _Scikit-learn_ neste trabalho. O _Scikit-learn_ é uma biblioteca da linguagem de programação _Python_ que possui vários algoritmos de aprendizagem de máquina para problemas supervisionados e não supervisionados. [4](https://jmlr.org/papers/v12/pedregosa11a.html)\n",
    "\n",
    "\n",
    "_D. Algoritmos de cache utilizados_\n",
    "\n",
    "Para este trabalho foram selecionados dois algoritmos de _cache_: \n",
    "\n",
    "* **_Least Recently Used_ (LRU)**: Remove o último objeto que está a mais tempo sem ser utilizado quando o cache excede o seu tamanho máximo.\n",
    "* **_Least Frequently Used_ (LFU)**: Remoeve o objeto que é menos utilizado baseado em sua frequência. Ele utiliza um contador para cada objeto para contar a frequência de cada objeto, quando o cache excede o seu tamanho máximo ele remove a página menos frequente."
   ]
  },
  {
   "cell_type": "markdown",
   "metadata": {},
   "source": [
    "## Experimentos\n",
    "\n",
    "Os experimentos foram dividios em três partes. Primeiramente o treinamento e avaliação dos algoritmos de classificação no conjunto de dados de treinamento com o objetivo de avaliar o algoritmo de classificação com melhor desempenho. Posteriormente, no conjunto de dados de testes, foi avaliada a métrica de _hit ratio_ dos algortimos de _cache_ e dos algoritmos de aprendizagem de máquina em conjunto com os algoritmos de _cache_ com objetivo de saber se existe um ganho de _hit ratio_ na utilização de um algoritmo de classificação antes de rodar o algoritmo de cache e em qual dos algoritmos, LRU ou LFU, esse ganho é maior. Por fim foi avaliado o tempo médio gasto na execução dos algoritmos de _cache_ e dos algoritmos de classificação em conjunto do algoritmo de _cache_ para avaliar a aplicabilidade da técnica utilizando o algoritmo de classificação no mundo real.\n",
    "\n",
    "\n",
    "_A. Métricas_\n",
    "\n",
    "Para avaliar os modelos gerados pelos algoritmos de classificação foram utilizadas métricas calculadas a partir de uma matriz de confusão [5](https://medium.com/@vitorborbarodrigues/m%C3%A9tricas-de-avalia%C3%A7%C3%A3o-acur%C3%A1cia-precis%C3%A3o-recall-quais-as-diferen%C3%A7as-c8f05e0a513c).\n",
    "A matriz de confusão indica em formato de tabela os erros e acertos do modelo. A tabela abaixo demostra um exemplo de uma matriz de confusão: \n",
    "\n",
    "|   | Valor previsto positivo | Valor previsto negativo |\n",
    "|---|---|---|\n",
    "| **Valor real positivo** |  <center>Verdadeiro Positivo<br>(VP)</center> |  <center>Falso Negativo<br>(FN)</center> |\n",
    "| **Valor real negativo** |  <center>Falso Positivo<br>(FP)</center> | <center>Verdadeiro Negativo<br>(VN)</center> |\n",
    "\n",
    "<center> Matriz de confusão</center>\n",
    "\n",
    "\n",
    "* **Verdadeiro Positivo (VP)**: Classificação correta dos valores positivos previstos.\n",
    "* **Falso Negativo (FN)**: Classificação errada dos valores positivos previstos.\n",
    "* **Falso Positivo (FP)**: Classificação errada dos valores negativos previstos.\n",
    "* **Verdadeiro Negativo (VN)**: Classificação correta dos valores negativos previstos.\n",
    "\n",
    "\n",
    "A partir desses valores é calculada as seguintes métricas para avaliação dos modelos:\n",
    "\n",
    "* **Acurácia**: Indica a perfomance geral que o modelo classificou corretamente, sua fórmula é:\n",
    "$$\\frac{{VP} + {VN}}{{VP} + {VN} + {FP} + {FN}}$$ \n",
    "\n",
    "\n",
    "* **Precisão**: Indica a quantidade das classificações positivas que o modelo fez e quantas estão corretas, sua formulá é:\n",
    "$$\\frac{{VP}}{{VP} + {FP}}$$ \n",
    "\n",
    "\n",
    "* **_Recall_**: Indica a quantidade das classificações positivas corretas, sua formulá é:\n",
    "$$\\frac{{VP}}{{VP} + {FN}}$$ \n",
    "\n",
    "\n",
    "* **_F1-Score_**: Média harmônica entre precisão e _recall_, sua formulá é:\n",
    "$$2 * \\frac{{Precisão} * {Recall}}{{Precisão} + {Recall}}$$\n",
    "\n",
    "\n",
    "\n",
    "Posteriormente para avaliar o desemepenho dos modelos em conjunto com os algoritmos de cache no sistema proposto foi utilizado a métrica de _hit ratio_ da equação (1).\n",
    "No fim para avaliar o tempo médio do sistema, foram selecionados 2000 mil requisições do conjunto de teste e medido o tempo de cada requisição no sistema apenas com os algoritmos de cache e posteriormente nos sistemas propostos com os algoritmos de classificação."
   ]
  },
  {
   "cell_type": "markdown",
   "metadata": {},
   "source": [
    "## Parte prática"
   ]
  },
  {
   "cell_type": "code",
   "execution_count": 1,
   "metadata": {},
   "outputs": [],
   "source": [
    "import numpy as np\n",
    "import pandas as pd\n",
    "import math, random\n",
    "from scipy import special\n",
    "import matplotlib.pyplot as plt\n",
    "from matplotlib.pyplot import figure\n",
    "from datetime import datetime, timedelta"
   ]
  },
  {
   "cell_type": "code",
   "execution_count": 2,
   "metadata": {},
   "outputs": [],
   "source": [
    "from sklearn.ensemble import RandomForestClassifier, GradientBoostingClassifier\n",
    "from sklearn.tree import DecisionTreeClassifier\n",
    "from sklearn.model_selection import train_test_split\n",
    "from sklearn.metrics import accuracy_score, precision_score, recall_score, f1_score"
   ]
  },
  {
   "cell_type": "code",
   "execution_count": 3,
   "metadata": {},
   "outputs": [],
   "source": [
    "np.random.seed(0)"
   ]
  },
  {
   "cell_type": "code",
   "execution_count": 4,
   "metadata": {},
   "outputs": [
    {
     "data": {
      "text/html": [
       "<div>\n",
       "<style scoped>\n",
       "    .dataframe tbody tr th:only-of-type {\n",
       "        vertical-align: middle;\n",
       "    }\n",
       "\n",
       "    .dataframe tbody tr th {\n",
       "        vertical-align: top;\n",
       "    }\n",
       "\n",
       "    .dataframe thead th {\n",
       "        text-align: right;\n",
       "    }\n",
       "</style>\n",
       "<table border=\"1\" class=\"dataframe\">\n",
       "  <thead>\n",
       "    <tr style=\"text-align: right;\">\n",
       "      <th></th>\n",
       "      <th>object_ID</th>\n",
       "      <th>hour</th>\n",
       "      <th>size</th>\n",
       "      <th>total_requests_1H</th>\n",
       "      <th>mean_requests_2H</th>\n",
       "      <th>count</th>\n",
       "      <th>cache</th>\n",
       "    </tr>\n",
       "    <tr>\n",
       "      <th>time</th>\n",
       "      <th></th>\n",
       "      <th></th>\n",
       "      <th></th>\n",
       "      <th></th>\n",
       "      <th></th>\n",
       "      <th></th>\n",
       "      <th></th>\n",
       "    </tr>\n",
       "  </thead>\n",
       "  <tbody>\n",
       "    <tr>\n",
       "      <th>2018-08-01 00:00:01.207572</th>\n",
       "      <td>1</td>\n",
       "      <td>0</td>\n",
       "      <td>59283</td>\n",
       "      <td>1.0</td>\n",
       "      <td>1.0</td>\n",
       "      <td>1.0</td>\n",
       "      <td>1</td>\n",
       "    </tr>\n",
       "    <tr>\n",
       "      <th>2018-08-01 00:00:01.496262</th>\n",
       "      <td>1</td>\n",
       "      <td>0</td>\n",
       "      <td>59283</td>\n",
       "      <td>2.0</td>\n",
       "      <td>1.5</td>\n",
       "      <td>2.0</td>\n",
       "      <td>1</td>\n",
       "    </tr>\n",
       "    <tr>\n",
       "      <th>2018-08-01 00:00:02.023976</th>\n",
       "      <td>20</td>\n",
       "      <td>0</td>\n",
       "      <td>48399</td>\n",
       "      <td>1.0</td>\n",
       "      <td>1.0</td>\n",
       "      <td>1.0</td>\n",
       "      <td>0</td>\n",
       "    </tr>\n",
       "    <tr>\n",
       "      <th>2018-08-01 00:00:02.777488</th>\n",
       "      <td>29</td>\n",
       "      <td>0</td>\n",
       "      <td>5385</td>\n",
       "      <td>1.0</td>\n",
       "      <td>1.0</td>\n",
       "      <td>1.0</td>\n",
       "      <td>0</td>\n",
       "    </tr>\n",
       "    <tr>\n",
       "      <th>2018-08-01 00:00:03.251327</th>\n",
       "      <td>37</td>\n",
       "      <td>0</td>\n",
       "      <td>46423</td>\n",
       "      <td>1.0</td>\n",
       "      <td>1.0</td>\n",
       "      <td>1.0</td>\n",
       "      <td>0</td>\n",
       "    </tr>\n",
       "  </tbody>\n",
       "</table>\n",
       "</div>"
      ],
      "text/plain": [
       "                            object_ID  hour   size  total_requests_1H  \\\n",
       "time                                                                    \n",
       "2018-08-01 00:00:01.207572          1     0  59283                1.0   \n",
       "2018-08-01 00:00:01.496262          1     0  59283                2.0   \n",
       "2018-08-01 00:00:02.023976         20     0  48399                1.0   \n",
       "2018-08-01 00:00:02.777488         29     0   5385                1.0   \n",
       "2018-08-01 00:00:03.251327         37     0  46423                1.0   \n",
       "\n",
       "                            mean_requests_2H  count  cache  \n",
       "time                                                        \n",
       "2018-08-01 00:00:01.207572               1.0    1.0      1  \n",
       "2018-08-01 00:00:01.496262               1.5    2.0      1  \n",
       "2018-08-01 00:00:02.023976               1.0    1.0      0  \n",
       "2018-08-01 00:00:02.777488               1.0    1.0      0  \n",
       "2018-08-01 00:00:03.251327               1.0    1.0      0  "
      ]
     },
     "metadata": {},
     "output_type": "display_data"
    }
   ],
   "source": [
    "df = pd.read_csv(\"final_datasets/teste.csv\")\n",
    "df = df.set_index(\"time\")\n",
    "df['cache'] = df['cache'].astype(int)\n",
    "\n",
    "display(df.head())"
   ]
  },
  {
   "cell_type": "markdown",
   "metadata": {},
   "source": [
    "Separação dos dados em dados de treinamento e dados de testes"
   ]
  },
  {
   "cell_type": "code",
   "execution_count": 5,
   "metadata": {},
   "outputs": [
    {
     "name": "stdout",
     "output_type": "stream",
     "text": [
      "Número de observações nos dados de treinamento: 201341\n",
      "Número de observações nos dados de testes: 86290\n"
     ]
    }
   ],
   "source": [
    "train, test = train_test_split(df, test_size=0.3, random_state=42, shuffle=False)\n",
    "\n",
    "print('Número de observações nos dados de treinamento:', len(train))\n",
    "print('Número de observações nos dados de testes:',len(test))"
   ]
  },
  {
   "cell_type": "markdown",
   "metadata": {},
   "source": [
    "Escolhendo as _features_ que serão utilizadas pelos modelos para prever a classificação da coluna _cache_"
   ]
  },
  {
   "cell_type": "code",
   "execution_count": 6,
   "metadata": {},
   "outputs": [
    {
     "name": "stdout",
     "output_type": "stream",
     "text": [
      "Features escolhidas: hour, size, total_requests_1H, mean_requests_2H, count\n"
     ]
    }
   ],
   "source": [
    "features = df.columns[1:6]\n",
    "print('Features escolhidas:', ', '.join(features))"
   ]
  },
  {
   "cell_type": "code",
   "execution_count": 7,
   "metadata": {},
   "outputs": [],
   "source": [
    "y, uniques = pd.factorize(train['cache'])"
   ]
  },
  {
   "cell_type": "markdown",
   "metadata": {},
   "source": [
    "### Execução e avaliação dos algoritmos classificadores"
   ]
  },
  {
   "cell_type": "markdown",
   "metadata": {},
   "source": [
    "#### Decision Tree"
   ]
  },
  {
   "cell_type": "code",
   "execution_count": 8,
   "metadata": {},
   "outputs": [
    {
     "data": {
      "text/plain": [
       "DecisionTreeClassifier(class_weight=None, criterion='gini', max_depth=5,\n",
       "                       max_features=None, max_leaf_nodes=None,\n",
       "                       min_impurity_decrease=0.0, min_impurity_split=None,\n",
       "                       min_samples_leaf=1, min_samples_split=2,\n",
       "                       min_weight_fraction_leaf=0.0, presort=False,\n",
       "                       random_state=0, splitter='best')"
      ]
     },
     "execution_count": 8,
     "metadata": {},
     "output_type": "execute_result"
    }
   ],
   "source": [
    "clf_tree = DecisionTreeClassifier(random_state=0, max_depth=5)\n",
    "clf_tree.fit(train[features], y)"
   ]
  },
  {
   "cell_type": "code",
   "execution_count": 9,
   "metadata": {},
   "outputs": [],
   "source": [
    "# Realiza a previsão da coluna cache no conjunto de dados de testes\n",
    "preds_tree = uniques[clf_tree.predict(test[features])]"
   ]
  },
  {
   "cell_type": "code",
   "execution_count": 10,
   "metadata": {},
   "outputs": [
    {
     "data": {
      "text/html": [
       "<div>\n",
       "<style scoped>\n",
       "    .dataframe tbody tr th:only-of-type {\n",
       "        vertical-align: middle;\n",
       "    }\n",
       "\n",
       "    .dataframe tbody tr th {\n",
       "        vertical-align: top;\n",
       "    }\n",
       "\n",
       "    .dataframe thead th {\n",
       "        text-align: right;\n",
       "    }\n",
       "</style>\n",
       "<table border=\"1\" class=\"dataframe\">\n",
       "  <thead>\n",
       "    <tr style=\"text-align: right;\">\n",
       "      <th>Valores previstos</th>\n",
       "      <th>0</th>\n",
       "      <th>1</th>\n",
       "    </tr>\n",
       "    <tr>\n",
       "      <th>Valores reais</th>\n",
       "      <th></th>\n",
       "      <th></th>\n",
       "    </tr>\n",
       "  </thead>\n",
       "  <tbody>\n",
       "    <tr>\n",
       "      <th>0</th>\n",
       "      <td>33743</td>\n",
       "      <td>11671</td>\n",
       "    </tr>\n",
       "    <tr>\n",
       "      <th>1</th>\n",
       "      <td>14010</td>\n",
       "      <td>26866</td>\n",
       "    </tr>\n",
       "  </tbody>\n",
       "</table>\n",
       "</div>"
      ],
      "text/plain": [
       "Valores previstos      0      1\n",
       "Valores reais                  \n",
       "0                  33743  11671\n",
       "1                  14010  26866"
      ]
     },
     "execution_count": 10,
     "metadata": {},
     "output_type": "execute_result"
    }
   ],
   "source": [
    "pd.crosstab(test['cache'], preds_tree, rownames=['Valores reais'], colnames=['Valores previstos'])"
   ]
  },
  {
   "cell_type": "code",
   "execution_count": 11,
   "metadata": {},
   "outputs": [],
   "source": [
    "def calcula_metricas_classificadores(test, preds_algo):\n",
    "  accuracy = round(accuracy_score(test['cache'], preds_algo), 2) * 100\n",
    "  precision = round(precision_score(test['cache'], preds_algo), 2) * 100\n",
    "  recall = round(recall_score(test['cache'], preds_algo), 4) * 100\n",
    "  f1 = round(f1_score(test['cache'], preds_algo), 2) * 100\n",
    "\n",
    "  print(f\"Acurácia: {accuracy}%\")\n",
    "  print(f\"Precisão: {precision}%\")\n",
    "  print(f\"Recall: {recall}%\")\n",
    "  print(f\"F1-Score: {f1}%\")"
   ]
  },
  {
   "cell_type": "code",
   "execution_count": 12,
   "metadata": {},
   "outputs": [
    {
     "name": "stdout",
     "output_type": "stream",
     "text": [
      "Acurácia: 70.0%\n",
      "Precisão: 70.0%\n",
      "Recall: 65.73%\n",
      "F1-Score: 68.0%\n"
     ]
    }
   ],
   "source": [
    "calcula_metricas_classificadores(test, preds_tree)"
   ]
  },
  {
   "cell_type": "code",
   "execution_count": 13,
   "metadata": {},
   "outputs": [
    {
     "data": {
      "text/html": [
       "<div>\n",
       "<style scoped>\n",
       "    .dataframe tbody tr th:only-of-type {\n",
       "        vertical-align: middle;\n",
       "    }\n",
       "\n",
       "    .dataframe tbody tr th {\n",
       "        vertical-align: top;\n",
       "    }\n",
       "\n",
       "    .dataframe thead th {\n",
       "        text-align: right;\n",
       "    }\n",
       "</style>\n",
       "<table border=\"1\" class=\"dataframe\">\n",
       "  <thead>\n",
       "    <tr style=\"text-align: right;\">\n",
       "      <th></th>\n",
       "      <th>Importância</th>\n",
       "    </tr>\n",
       "    <tr>\n",
       "      <th>feature</th>\n",
       "      <th></th>\n",
       "    </tr>\n",
       "  </thead>\n",
       "  <tbody>\n",
       "    <tr>\n",
       "      <th>total_requests_1H</th>\n",
       "      <td>0.760</td>\n",
       "    </tr>\n",
       "    <tr>\n",
       "      <th>count</th>\n",
       "      <td>0.158</td>\n",
       "    </tr>\n",
       "    <tr>\n",
       "      <th>hour</th>\n",
       "      <td>0.049</td>\n",
       "    </tr>\n",
       "    <tr>\n",
       "      <th>mean_requests_2H</th>\n",
       "      <td>0.024</td>\n",
       "    </tr>\n",
       "    <tr>\n",
       "      <th>size</th>\n",
       "      <td>0.009</td>\n",
       "    </tr>\n",
       "  </tbody>\n",
       "</table>\n",
       "</div>"
      ],
      "text/plain": [
       "                   Importância\n",
       "feature                       \n",
       "total_requests_1H        0.760\n",
       "count                    0.158\n",
       "hour                     0.049\n",
       "mean_requests_2H         0.024\n",
       "size                     0.009"
      ]
     },
     "metadata": {},
     "output_type": "display_data"
    }
   ],
   "source": [
    "importances = pd.DataFrame({'feature':features,'Importância':np.round(clf_tree.feature_importances_,3)})\n",
    "importances = importances.sort_values('Importância',ascending=False).set_index('feature')\n",
    "display(importances)"
   ]
  },
  {
   "cell_type": "markdown",
   "metadata": {},
   "source": [
    "#### Random Forest"
   ]
  },
  {
   "cell_type": "code",
   "execution_count": 14,
   "metadata": {},
   "outputs": [
    {
     "name": "stderr",
     "output_type": "stream",
     "text": [
      "/home/alexandre/.asdf/installs/python/anaconda3-2019.10/lib/python3.7/site-packages/sklearn/ensemble/forest.py:245: FutureWarning: The default value of n_estimators will change from 10 in version 0.20 to 100 in 0.22.\n",
      "  \"10 in version 0.20 to 100 in 0.22.\", FutureWarning)\n"
     ]
    },
    {
     "data": {
      "text/plain": [
       "RandomForestClassifier(bootstrap=True, class_weight=None, criterion='gini',\n",
       "                       max_depth=None, max_features='auto', max_leaf_nodes=None,\n",
       "                       min_impurity_decrease=0.0, min_impurity_split=None,\n",
       "                       min_samples_leaf=1, min_samples_split=2,\n",
       "                       min_weight_fraction_leaf=0.0, n_estimators=10, n_jobs=12,\n",
       "                       oob_score=False, random_state=0, verbose=0,\n",
       "                       warm_start=False)"
      ]
     },
     "execution_count": 14,
     "metadata": {},
     "output_type": "execute_result"
    }
   ],
   "source": [
    "clf_rf = RandomForestClassifier(n_jobs=12, random_state=0)\n",
    "clf_rf.fit(train[features], y)"
   ]
  },
  {
   "cell_type": "code",
   "execution_count": 15,
   "metadata": {},
   "outputs": [],
   "source": [
    "# Realiza a previsão da coluna cache no conjunto de dados de testes\n",
    "preds_rf = uniques[clf_rf.predict(test[features])]"
   ]
  },
  {
   "cell_type": "code",
   "execution_count": 16,
   "metadata": {},
   "outputs": [
    {
     "data": {
      "text/html": [
       "<div>\n",
       "<style scoped>\n",
       "    .dataframe tbody tr th:only-of-type {\n",
       "        vertical-align: middle;\n",
       "    }\n",
       "\n",
       "    .dataframe tbody tr th {\n",
       "        vertical-align: top;\n",
       "    }\n",
       "\n",
       "    .dataframe thead th {\n",
       "        text-align: right;\n",
       "    }\n",
       "</style>\n",
       "<table border=\"1\" class=\"dataframe\">\n",
       "  <thead>\n",
       "    <tr style=\"text-align: right;\">\n",
       "      <th>Valores previstos</th>\n",
       "      <th>0</th>\n",
       "      <th>1</th>\n",
       "    </tr>\n",
       "    <tr>\n",
       "      <th>Valores reais</th>\n",
       "      <th></th>\n",
       "      <th></th>\n",
       "    </tr>\n",
       "  </thead>\n",
       "  <tbody>\n",
       "    <tr>\n",
       "      <th>0</th>\n",
       "      <td>25546</td>\n",
       "      <td>19868</td>\n",
       "    </tr>\n",
       "    <tr>\n",
       "      <th>1</th>\n",
       "      <td>12014</td>\n",
       "      <td>28862</td>\n",
       "    </tr>\n",
       "  </tbody>\n",
       "</table>\n",
       "</div>"
      ],
      "text/plain": [
       "Valores previstos      0      1\n",
       "Valores reais                  \n",
       "0                  25546  19868\n",
       "1                  12014  28862"
      ]
     },
     "execution_count": 16,
     "metadata": {},
     "output_type": "execute_result"
    }
   ],
   "source": [
    "pd.crosstab(test['cache'], preds_rf, rownames=['Valores reais'], colnames=['Valores previstos'])"
   ]
  },
  {
   "cell_type": "code",
   "execution_count": 17,
   "metadata": {},
   "outputs": [
    {
     "name": "stdout",
     "output_type": "stream",
     "text": [
      "Acurácia: 63.0%\n",
      "Precisão: 59.0%\n",
      "Recall: 70.61%\n",
      "F1-Score: 64.0%\n"
     ]
    }
   ],
   "source": [
    "calcula_metricas_classificadores(test, preds_rf)"
   ]
  },
  {
   "cell_type": "code",
   "execution_count": 18,
   "metadata": {},
   "outputs": [
    {
     "data": {
      "text/html": [
       "<div>\n",
       "<style scoped>\n",
       "    .dataframe tbody tr th:only-of-type {\n",
       "        vertical-align: middle;\n",
       "    }\n",
       "\n",
       "    .dataframe tbody tr th {\n",
       "        vertical-align: top;\n",
       "    }\n",
       "\n",
       "    .dataframe thead th {\n",
       "        text-align: right;\n",
       "    }\n",
       "</style>\n",
       "<table border=\"1\" class=\"dataframe\">\n",
       "  <thead>\n",
       "    <tr style=\"text-align: right;\">\n",
       "      <th></th>\n",
       "      <th>Importância</th>\n",
       "    </tr>\n",
       "    <tr>\n",
       "      <th>feature</th>\n",
       "      <th></th>\n",
       "    </tr>\n",
       "  </thead>\n",
       "  <tbody>\n",
       "    <tr>\n",
       "      <th>count</th>\n",
       "      <td>0.354</td>\n",
       "    </tr>\n",
       "    <tr>\n",
       "      <th>total_requests_1H</th>\n",
       "      <td>0.201</td>\n",
       "    </tr>\n",
       "    <tr>\n",
       "      <th>mean_requests_2H</th>\n",
       "      <td>0.199</td>\n",
       "    </tr>\n",
       "    <tr>\n",
       "      <th>hour</th>\n",
       "      <td>0.142</td>\n",
       "    </tr>\n",
       "    <tr>\n",
       "      <th>size</th>\n",
       "      <td>0.103</td>\n",
       "    </tr>\n",
       "  </tbody>\n",
       "</table>\n",
       "</div>"
      ],
      "text/plain": [
       "                   Importância\n",
       "feature                       \n",
       "count                    0.354\n",
       "total_requests_1H        0.201\n",
       "mean_requests_2H         0.199\n",
       "hour                     0.142\n",
       "size                     0.103"
      ]
     },
     "metadata": {},
     "output_type": "display_data"
    }
   ],
   "source": [
    "importances = pd.DataFrame({'feature':features,'Importância':np.round(clf_rf.feature_importances_,3)})\n",
    "importances = importances.sort_values('Importância',ascending=False).set_index('feature')\n",
    "display(importances)"
   ]
  },
  {
   "cell_type": "markdown",
   "metadata": {},
   "source": [
    "#### Gradient Boosting"
   ]
  },
  {
   "cell_type": "code",
   "execution_count": 19,
   "metadata": {},
   "outputs": [
    {
     "data": {
      "text/plain": [
       "GradientBoostingClassifier(criterion='friedman_mse', init=None,\n",
       "                           learning_rate=0.1, loss='deviance', max_depth=3,\n",
       "                           max_features=None, max_leaf_nodes=None,\n",
       "                           min_impurity_decrease=0.0, min_impurity_split=None,\n",
       "                           min_samples_leaf=1, min_samples_split=2,\n",
       "                           min_weight_fraction_leaf=0.0, n_estimators=100,\n",
       "                           n_iter_no_change=None, presort='auto',\n",
       "                           random_state=0, subsample=1.0, tol=0.0001,\n",
       "                           validation_fraction=0.1, verbose=0,\n",
       "                           warm_start=False)"
      ]
     },
     "execution_count": 19,
     "metadata": {},
     "output_type": "execute_result"
    }
   ],
   "source": [
    "clf_gbc = GradientBoostingClassifier(random_state=0)\n",
    "clf_gbc.fit(train[features], y)"
   ]
  },
  {
   "cell_type": "code",
   "execution_count": 20,
   "metadata": {},
   "outputs": [],
   "source": [
    "# Realiza a previsão da coluna cache no conjunto de dados de testes\n",
    "preds_gbc = uniques[clf_gbc.predict(test[features])]"
   ]
  },
  {
   "cell_type": "code",
   "execution_count": 21,
   "metadata": {},
   "outputs": [
    {
     "data": {
      "text/html": [
       "<div>\n",
       "<style scoped>\n",
       "    .dataframe tbody tr th:only-of-type {\n",
       "        vertical-align: middle;\n",
       "    }\n",
       "\n",
       "    .dataframe tbody tr th {\n",
       "        vertical-align: top;\n",
       "    }\n",
       "\n",
       "    .dataframe thead th {\n",
       "        text-align: right;\n",
       "    }\n",
       "</style>\n",
       "<table border=\"1\" class=\"dataframe\">\n",
       "  <thead>\n",
       "    <tr style=\"text-align: right;\">\n",
       "      <th>Valores previstos</th>\n",
       "      <th>0</th>\n",
       "      <th>1</th>\n",
       "    </tr>\n",
       "    <tr>\n",
       "      <th>Valores reais</th>\n",
       "      <th></th>\n",
       "      <th></th>\n",
       "    </tr>\n",
       "  </thead>\n",
       "  <tbody>\n",
       "    <tr>\n",
       "      <th>0</th>\n",
       "      <td>29961</td>\n",
       "      <td>15453</td>\n",
       "    </tr>\n",
       "    <tr>\n",
       "      <th>1</th>\n",
       "      <td>12974</td>\n",
       "      <td>27902</td>\n",
       "    </tr>\n",
       "  </tbody>\n",
       "</table>\n",
       "</div>"
      ],
      "text/plain": [
       "Valores previstos      0      1\n",
       "Valores reais                  \n",
       "0                  29961  15453\n",
       "1                  12974  27902"
      ]
     },
     "execution_count": 21,
     "metadata": {},
     "output_type": "execute_result"
    }
   ],
   "source": [
    "pd.crosstab(test['cache'], preds_gbc, rownames=['Valores reais'], colnames=['Valores previstos'])"
   ]
  },
  {
   "cell_type": "code",
   "execution_count": 22,
   "metadata": {},
   "outputs": [
    {
     "name": "stdout",
     "output_type": "stream",
     "text": [
      "Acurácia: 67.0%\n",
      "Precisão: 64.0%\n",
      "Recall: 68.26%\n",
      "F1-Score: 66.0%\n"
     ]
    }
   ],
   "source": [
    "calcula_metricas_classificadores(test, preds_gbc)"
   ]
  },
  {
   "cell_type": "code",
   "execution_count": 23,
   "metadata": {},
   "outputs": [
    {
     "data": {
      "text/html": [
       "<div>\n",
       "<style scoped>\n",
       "    .dataframe tbody tr th:only-of-type {\n",
       "        vertical-align: middle;\n",
       "    }\n",
       "\n",
       "    .dataframe tbody tr th {\n",
       "        vertical-align: top;\n",
       "    }\n",
       "\n",
       "    .dataframe thead th {\n",
       "        text-align: right;\n",
       "    }\n",
       "</style>\n",
       "<table border=\"1\" class=\"dataframe\">\n",
       "  <thead>\n",
       "    <tr style=\"text-align: right;\">\n",
       "      <th></th>\n",
       "      <th>Importância</th>\n",
       "    </tr>\n",
       "    <tr>\n",
       "      <th>feature</th>\n",
       "      <th></th>\n",
       "    </tr>\n",
       "  </thead>\n",
       "  <tbody>\n",
       "    <tr>\n",
       "      <th>total_requests_1H</th>\n",
       "      <td>0.351</td>\n",
       "    </tr>\n",
       "    <tr>\n",
       "      <th>mean_requests_2H</th>\n",
       "      <td>0.343</td>\n",
       "    </tr>\n",
       "    <tr>\n",
       "      <th>count</th>\n",
       "      <td>0.177</td>\n",
       "    </tr>\n",
       "    <tr>\n",
       "      <th>size</th>\n",
       "      <td>0.065</td>\n",
       "    </tr>\n",
       "    <tr>\n",
       "      <th>hour</th>\n",
       "      <td>0.064</td>\n",
       "    </tr>\n",
       "  </tbody>\n",
       "</table>\n",
       "</div>"
      ],
      "text/plain": [
       "                   Importância\n",
       "feature                       \n",
       "total_requests_1H        0.351\n",
       "mean_requests_2H         0.343\n",
       "count                    0.177\n",
       "size                     0.065\n",
       "hour                     0.064"
      ]
     },
     "metadata": {},
     "output_type": "display_data"
    }
   ],
   "source": [
    "importances = pd.DataFrame({'feature':features,'Importância':np.round(clf_gbc.feature_importances_,3)})\n",
    "importances = importances.sort_values('Importância',ascending=False).set_index('feature')\n",
    "display(importances)"
   ]
  },
  {
   "cell_type": "markdown",
   "metadata": {},
   "source": [
    "# ESCREVER A CONCLUSÃO AMANHA"
   ]
  },
  {
   "cell_type": "markdown",
   "metadata": {},
   "source": [
    "### Execução e avaliação dos algoritmos de cache com e sem os classificadores"
   ]
  },
  {
   "cell_type": "code",
   "execution_count": 24,
   "metadata": {},
   "outputs": [],
   "source": [
    "from lru import LRU\n",
    "from lfu import LFU"
   ]
  },
  {
   "cell_type": "markdown",
   "metadata": {},
   "source": [
    "### Execução apenas dos algoritmos de cache"
   ]
  },
  {
   "cell_type": "code",
   "execution_count": 33,
   "metadata": {},
   "outputs": [],
   "source": [
    "def executa_apenas_cache(algoritmo_cache, capacidade_cache, df):\n",
    "  cache = algoritmo_cache(capacity=capacidade_cache)\n",
    "  cache_status = {}\n",
    "  cache_counter = []\n",
    "  c = 0 \n",
    "\n",
    "  events = df['object_ID'].values\n",
    "\n",
    "  for event_key in events:\n",
    "    if event_key not in cache_status:\n",
    "      cache_status[event_key] = {\n",
    "          'found_in_cache': 0,\n",
    "          'n_requested': 0\n",
    "      }\n",
    "\n",
    "    item = cache.get(event_key)\n",
    "    if item != -1:\n",
    "      c += 1\n",
    "      cache_status[event_key]['found_in_cache'] += 1\n",
    "    else:\n",
    "      cache.put(event_key, 1)\n",
    "\n",
    "    cache_counter.append(c)\n",
    "    cache_status[event_key]['n_requested'] += 1\n",
    "    cache_status[event_key]['hit_ratio'] = round(cache_status[event_key]['found_in_cache'] / cache_status[event_key]['n_requested'], 2)\n",
    "\n",
    "  final_hit_ratios = pd.DataFrame(cache_status).transpose().sort_values(\"hit_ratio\", ascending=False)\n",
    "  \n",
    "  \n",
    "  return cache_counter, final_hit_ratios"
   ]
  },
  {
   "cell_type": "code",
   "execution_count": 42,
   "metadata": {},
   "outputs": [
    {
     "name": "stdout",
     "output_type": "stream",
     "text": [
      "Hit Ratio LRU: 58.61\n"
     ]
    }
   ],
   "source": [
    "counter_LRU, df_hit_ratios_LRU = executa_apenas_cache(LRU, 15, test)\n",
    "found_in_cache_total_LRU = df_hit_ratios_LRU['found_in_cache'].sum()\n",
    "n_requested_total_LRU = df_hit_ratios_LRU['n_requested'].sum()\n",
    "hit_ratio_LRU = round(( found_in_cache_total_LRU / n_requested_total_LRU ) * 100, 2)\n",
    "\n",
    "print('Hit Ratio LRU:', hit_ratio_LRU)"
   ]
  },
  {
   "cell_type": "code",
   "execution_count": 41,
   "metadata": {},
   "outputs": [
    {
     "name": "stdout",
     "output_type": "stream",
     "text": [
      "Hit Ratio LFU: 46.45\n"
     ]
    }
   ],
   "source": [
    "counter_LFU, df_hit_ratios_LFU = executa_apenas_cache(LFU, 15, test)\n",
    "found_in_cache_total_LFU = df_hit_ratios_LFU['found_in_cache'].sum()\n",
    "n_requested_total_LFU = df_hit_ratios_LFU['n_requested'].sum()\n",
    "hit_ratio_LFU = round(( found_in_cache_total_LFU / n_requested_total_LFU ) * 100, 2)\n",
    "\n",
    "print('Hit Ratio LFU:', hit_ratio_LFU)"
   ]
  },
  {
   "cell_type": "code",
   "execution_count": 58,
   "metadata": {},
   "outputs": [
    {
     "data": {
      "image/png": "[encoded data removed]",
      "text/plain": [
       "<Figure size 960x480 with 1 Axes>"
      ]
     },
     "metadata": {},
     "output_type": "display_data"
    }
   ],
   "source": [
    "figure(num=None, figsize=(12, 6), dpi=80, facecolor='w', edgecolor='k')\n",
    "\n",
    "plt.plot(counter_LRU, label=\"LRU\")\n",
    "plt.plot(counter_LFU, label=\"LFU\")\n",
    "plt.xlabel('Número total de requisições')\n",
    "plt.ylabel('Total de requisições encontradas em cache')\n",
    "plt.legend()\n",
    "plt.show()"
   ]
  },
  {
   "cell_type": "markdown",
   "metadata": {},
   "source": [
    "### Execução dos algoritmos de cache com os algoritmos de classificação"
   ]
  },
  {
   "cell_type": "code",
   "execution_count": 67,
   "metadata": {},
   "outputs": [],
   "source": [
    "def executa_sistema_proposto(algoritmo_cache, capacidade_cache, df):\n",
    "  cache = algoritmo_cache(capacity=capacidade_cache)\n",
    "  cache_status = {}\n",
    "  cache_counter = []\n",
    "  c = 0 \n",
    "\n",
    "\n",
    "\n",
    "  for i, row in df.iterrows():\n",
    "    event_key = row['object_ID']\n",
    "    can_cache = row['preds']\n",
    "    \n",
    "    if not can_cache:\n",
    "      continue\n",
    "    \n",
    "    if event_key not in cache_status:\n",
    "      cache_status[event_key] = {\n",
    "          'found_in_cache': 0,\n",
    "          'n_requested': 0\n",
    "      }\n",
    "\n",
    "    item = cache.get(event_key)\n",
    "    if item != -1:\n",
    "      c += 1\n",
    "      cache_status[event_key]['found_in_cache'] += 1\n",
    "    else:\n",
    "      cache.put(event_key, 1)\n",
    "\n",
    "    cache_counter.append(c)\n",
    "    cache_status[event_key]['n_requested'] += 1\n",
    "    cache_status[event_key]['hit_ratio'] = round(cache_status[event_key]['found_in_cache'] / cache_status[event_key]['n_requested'], 2)\n",
    "\n",
    "  final_hit_ratios = pd.DataFrame(cache_status).transpose().sort_values(\"hit_ratio\", ascending=False)\n",
    "  \n",
    "  \n",
    "  return cache_counter, final_hit_ratios"
   ]
  },
  {
   "cell_type": "markdown",
   "metadata": {},
   "source": [
    "#### Sistema proposto utilizando Decision Trees"
   ]
  },
  {
   "cell_type": "code",
   "execution_count": 70,
   "metadata": {},
   "outputs": [
    {
     "name": "stdout",
     "output_type": "stream",
     "text": [
      "Hit Ratio LRU + Decision Tree: 96.93\n"
     ]
    }
   ],
   "source": [
    "test_tree = test.copy()\n",
    "test_tree['preds'] = preds_tree\n",
    "\n",
    "\n",
    "counter_LRU_DT, df_hit_ratios_LRU_DT = executa_sistema_proposto(LRU, 15, test_tree)\n",
    "found_in_cache_total_LRU_DT = df_hit_ratios_LRU_DT['found_in_cache'].sum()\n",
    "n_requested_total_LRU_DT = df_hit_ratios_LRU_DT['n_requested'].sum()\n",
    "hit_ratio_LRU_DT = round(( found_in_cache_total_LRU_DT / n_requested_total_LRU_DT ) * 100, 2)\n",
    "\n",
    "print('Hit Ratio LRU + Decision Tree:', hit_ratio_LRU_DT)"
   ]
  },
  {
   "cell_type": "code",
   "execution_count": 71,
   "metadata": {},
   "outputs": [
    {
     "name": "stdout",
     "output_type": "stream",
     "text": [
      "Hit Ratio LFU + Decision Tree: 75.73\n"
     ]
    }
   ],
   "source": [
    "test_tree = test.copy()\n",
    "test_tree['preds'] = preds_tree\n",
    "\n",
    "\n",
    "counter_LFU_DT, df_hit_ratios_LFU_DT = executa_sistema_proposto(LFU, 15, test_tree)\n",
    "found_in_cache_total_LFU_DT = df_hit_ratios_LFU_DT['found_in_cache'].sum()\n",
    "n_requested_total_LFU_DT = df_hit_ratios_LFU_DT['n_requested'].sum()\n",
    "hit_ratio_LFU_DT = round(( found_in_cache_total_LFU_DT / n_requested_total_LFU_DT ) * 100, 2)\n",
    "\n",
    "print('Hit Ratio LFU + Decision Tree:', hit_ratio_LFU_DT)"
   ]
  },
  {
   "cell_type": "markdown",
   "metadata": {},
   "source": [
    "#### Sistema proposto utilizando Random Forest"
   ]
  },
  {
   "cell_type": "code",
   "execution_count": 72,
   "metadata": {},
   "outputs": [
    {
     "name": "stdout",
     "output_type": "stream",
     "text": [
      "Hit Ratio LRU + Random Forest: 79.58\n"
     ]
    }
   ],
   "source": [
    "test_rf = test.copy()\n",
    "test_rf['preds'] = preds_rf\n",
    "\n",
    "\n",
    "counter_LRU_RF, df_hit_ratios_LRU_RF = executa_sistema_proposto(LRU, 15, test_rf)\n",
    "found_in_cache_total_LRU_RF = df_hit_ratios_LRU_RF['found_in_cache'].sum()\n",
    "n_requested_total_LRU_RF = df_hit_ratios_LRU_RF['n_requested'].sum()\n",
    "hit_ratio_LRU_RF = round(( found_in_cache_total_LRU_RF / n_requested_total_LRU_RF ) * 100, 2)\n",
    "\n",
    "print('Hit Ratio LRU + Random Forest:', hit_ratio_LRU_RF)"
   ]
  },
  {
   "cell_type": "code",
   "execution_count": 73,
   "metadata": {},
   "outputs": [
    {
     "name": "stdout",
     "output_type": "stream",
     "text": [
      "Hit Ratio LFU + Random Forest: 64.96\n"
     ]
    }
   ],
   "source": [
    "test_rf = test.copy()\n",
    "test_rf['preds'] = preds_rf\n",
    "\n",
    "\n",
    "counter_LFU_RF, df_hit_ratios_LFU_RF = executa_sistema_proposto(LFU, 15, test_rf)\n",
    "found_in_cache_total_LFU_RF = df_hit_ratios_LFU_RF['found_in_cache'].sum()\n",
    "n_requested_total_LFU_RF = df_hit_ratios_LFU_RF['n_requested'].sum()\n",
    "hit_ratio_LFU_RF = round(( found_in_cache_total_LFU_RF / n_requested_total_LFU_RF ) * 100, 2)\n",
    "\n",
    "print('Hit Ratio LFU + Random Forest:', hit_ratio_LFU_RF)"
   ]
  },
  {
   "cell_type": "markdown",
   "metadata": {},
   "source": [
    "#### Sistema proposto utilizando Gradient Boosting"
   ]
  },
  {
   "cell_type": "code",
   "execution_count": 74,
   "metadata": {},
   "outputs": [
    {
     "name": "stdout",
     "output_type": "stream",
     "text": [
      "Hit Ratio LRU + Gradient Boosting: 93.11\n"
     ]
    }
   ],
   "source": [
    "test_gbc = test.copy()\n",
    "test_gbc['preds'] = preds_gbc\n",
    "\n",
    "\n",
    "counter_LRU_GBC, df_hit_ratios_LRU_GBC = executa_sistema_proposto(LRU, 15, test_gbc)\n",
    "found_in_cache_total_LRU_GBC = df_hit_ratios_LRU_GBC['found_in_cache'].sum()\n",
    "n_requested_total_LRU_GBC = df_hit_ratios_LRU_GBC['n_requested'].sum()\n",
    "hit_ratio_LRU_GBC = round(( found_in_cache_total_LRU_GBC / n_requested_total_LRU_GBC ) * 100, 2)\n",
    "\n",
    "print('Hit Ratio LRU + Gradient Boosting:', hit_ratio_LRU_GBC)"
   ]
  },
  {
   "cell_type": "code",
   "execution_count": 75,
   "metadata": {},
   "outputs": [
    {
     "name": "stdout",
     "output_type": "stream",
     "text": [
      "Hit Ratio LFU + Gradient Boosting: 73.11\n"
     ]
    }
   ],
   "source": [
    "test_gbc = test.copy()\n",
    "test_gbc['preds'] = preds_gbc\n",
    "\n",
    "\n",
    "counter_LFU_GBC, df_hit_ratios_LFU_GBC = executa_sistema_proposto(LFU, 15, test_gbc)\n",
    "found_in_cache_total_LFU_GBC = df_hit_ratios_LFU_GBC['found_in_cache'].sum()\n",
    "n_requested_total_LFU_GBC = df_hit_ratios_LFU_GBC['n_requested'].sum()\n",
    "hit_ratio_LFU_GBC = round(( found_in_cache_total_LFU_GBC / n_requested_total_LFU_GBC ) * 100, 2)\n",
    "\n",
    "print('Hit Ratio LFU + Gradient Boosting:', hit_ratio_LFU_GBC)"
   ]
  },
  {
   "cell_type": "code",
   "execution_count": null,
   "metadata": {},
   "outputs": [],
   "source": [
    "counter_LRU_DT\n",
    "counter_LFU_DT\n",
    "counter_LRU_RF\n",
    "counter_LFU_RF\n",
    "counter_LRU_GBC\n",
    "counter_LFU_GBC"
   ]
  },
  {
   "cell_type": "code",
   "execution_count": 87,
   "metadata": {},
   "outputs": [
    {
     "name": "stdout",
     "output_type": "stream",
     "text": [
      "38537.0\n",
      "38537.0\n",
      "48730.0\n",
      "48730.0\n",
      "43355.0\n",
      "43355.0\n"
     ]
    }
   ],
   "source": [
    "print(n_requested_total_LRU_DT)\n",
    "print(n_requested_total_LFU_DT)\n",
    "print(n_requested_total_LRU_RF)\n",
    "print(n_requested_total_LFU_RF)\n",
    "print(n_requested_total_LRU_GBC)\n",
    "print(n_requested_total_LFU_GBC)"
   ]
  },
  {
   "cell_type": "code",
   "execution_count": 78,
   "metadata": {},
   "outputs": [
    {
     "data": {
      "image/png": "[encoded data removed]",
      "text/plain": [
       "<Figure size 1200x960 with 1 Axes>"
      ]
     },
     "metadata": {},
     "output_type": "display_data"
    }
   ],
   "source": [
    "figure(num=None, figsize=(15, 12), dpi=80, facecolor='w', edgecolor='k')\n",
    "\n",
    "plt.plot(counter_LRU_DT, label=\"LRU + DT\")\n",
    "plt.plot(counter_LFU_DT, label=\"LFU + DT\")\n",
    "plt.plot(counter_LRU_RF, label=\"LRU + RF\")\n",
    "plt.plot(counter_LFU_RF, label=\"LFU + RF\")\n",
    "plt.plot(counter_LRU_GBC, label=\"LRU + GBC\")\n",
    "plt.plot(counter_LFU_GBC, label=\"LFU + GBC\")\n",
    "plt.xlabel('Número total de requisições')\n",
    "plt.ylabel('Total de requisições encontradas em cache')\n",
    "plt.legend()\n",
    "plt.show()"
   ]
  },
  {
   "cell_type": "code",
   "execution_count": null,
   "metadata": {},
   "outputs": [],
   "source": []
  }
 ],
 "metadata": {
  "kernelspec": {
   "display_name": "Python 3",
   "language": "python",
   "name": "python3"
  },
  "language_info": {
   "codemirror_mode": {
    "name": "ipython",
    "version": 3
   },
   "file_extension": ".py",
   "mimetype": "text/x-python",
   "name": "python",
   "nbconvert_exporter": "python",
   "pygments_lexer": "ipython3",
   "version": "3.7.4"
  }
 },
 "nbformat": 4,
 "nbformat_minor": 4
}
